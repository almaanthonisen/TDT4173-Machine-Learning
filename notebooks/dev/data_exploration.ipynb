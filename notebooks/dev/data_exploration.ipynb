{
 "cells": [
  {
   "cell_type": "markdown",
   "id": "5ea4fe61",
   "metadata": {},
   "source": [
    "# Initial Data Exploration \n"
   ]
  },
  {
   "cell_type": "code",
   "execution_count": 1,
   "id": "15b44531",
   "metadata": {},
   "outputs": [],
   "source": [
    "import pandas as pd"
   ]
  },
  {
   "cell_type": "markdown",
   "id": "94f8b2a8",
   "metadata": {},
   "source": [
    "## receivals.csv "
   ]
  },
  {
   "cell_type": "markdown",
   "id": "cf7dd477",
   "metadata": {},
   "source": [
    "Exploration of the receivals.csv dataset to understand its structure and content.\n",
    "The goal is to see how the different columns relate to each other and to understand what each row represents. We want to check the uniqueness of each row, look at how purchases are linked to suppliers, materials, products, and items, and see how these elements connect."
   ]
  },
  {
   "cell_type": "code",
   "execution_count": 11,
   "id": "aaae9a30",
   "metadata": {},
   "outputs": [],
   "source": [
    "receivals = pd.read_csv(\"../../data/kernel/receivals.csv\")\n",
    "#receivals.head()"
   ]
  },
  {
   "cell_type": "markdown",
   "id": "c7e262ad",
   "metadata": {},
   "source": [
    "### Number of unique orders, materials and products  "
   ]
  },
  {
   "cell_type": "code",
   "execution_count": null,
   "id": "8fbfbbe8",
   "metadata": {},
   "outputs": [
    {
     "name": "stdout",
     "output_type": "stream",
     "text": [
      "Number of unique purchase orders: 7173\n",
      "Number of unique products: 54\n",
      "Number of unique raw materials: 203\n"
     ]
    }
   ],
   "source": [
    "\n",
    "unique_orders_count = receivals[\"purchase_order_id\"].nunique()\n",
    "unique_products_count = receivals[\"product_id\"].nunique()\n",
    "unique_materials_count = receivals[\"rm_id\"].nunique()\n",
    "print(f\"Number of unique purchase orders: {unique_orders_count}\")\n",
    "print(f\"Number of unique products: {unique_products_count}\")\n",
    "print(f\"Number of unique raw materials: {unique_materials_count}\")"
   ]
  },
  {
   "cell_type": "markdown",
   "id": "703540ae",
   "metadata": {},
   "source": [
    "### Number of material per order "
   ]
  },
  {
   "cell_type": "code",
   "execution_count": 30,
   "id": "285d921d",
   "metadata": {},
   "outputs": [
    {
     "name": "stdout",
     "output_type": "stream",
     "text": [
      "\n",
      "Distribution of number of unique materials per order:\n",
      "unique_rm_count\n",
      "1     5026\n",
      "2     1082\n",
      "3      305\n",
      "4      231\n",
      "5      161\n",
      "6      106\n",
      "7       73\n",
      "8       62\n",
      "9       45\n",
      "10      38\n",
      "11      22\n",
      "12      10\n",
      "13       3\n",
      "14       4\n",
      "15       1\n",
      "16       1\n",
      "22       1\n",
      "24       2\n",
      "Name: count, dtype: int64\n"
     ]
    }
   ],
   "source": [
    "rm_per_order = (\n",
    "    receivals.groupby(\"purchase_order_id\")[\"rm_id\"]\n",
    "    .nunique()\n",
    "    .reset_index(name=\"unique_rm_count\")\n",
    ")\n",
    "\n",
    "#print(rm_per_order.head())\n",
    "distribution = rm_per_order[\"unique_rm_count\"].value_counts().sort_index()\n",
    "print(\"\\nDistribution of number of unique materials per order:\")\n",
    "print(distribution)"
   ]
  },
  {
   "cell_type": "markdown",
   "id": "0093e954",
   "metadata": {},
   "source": [
    "### Number of products per order"
   ]
  },
  {
   "cell_type": "code",
   "execution_count": 25,
   "id": "bdee17c9",
   "metadata": {},
   "outputs": [
    {
     "name": "stdout",
     "output_type": "stream",
     "text": [
      "\n",
      "Distribution of number of unique products per order:\n",
      "unique_product_count\n",
      "1    5727\n",
      "2     696\n",
      "3     313\n",
      "4     196\n",
      "5     175\n",
      "6      60\n",
      "7       5\n",
      "8       1\n",
      "Name: count, dtype: int64\n"
     ]
    }
   ],
   "source": [
    "products_per_order = (\n",
    "    receivals.groupby(\"purchase_order_id\")[\"product_id\"]\n",
    "    .nunique()\n",
    "    .reset_index(name=\"unique_product_count\")\n",
    ")\n",
    "\n",
    "distribution = products_per_order[\"unique_product_count\"].value_counts().sort_index()\n",
    "print(\"\\nDistribution of number of unique products per order:\")\n",
    "print(distribution)"
   ]
  },
  {
   "cell_type": "markdown",
   "id": "6bf1b27a",
   "metadata": {},
   "source": [
    "### Number of material per product "
   ]
  },
  {
   "cell_type": "code",
   "execution_count": 29,
   "id": "c8e7f8ee",
   "metadata": {},
   "outputs": [
    {
     "name": "stdout",
     "output_type": "stream",
     "text": [
      "\n",
      "Number of products with multiple raw materials: 37\n",
      "\n",
      "Distribution of number of materials per product:\n",
      "unique_rm_count\n",
      "1     17\n",
      "2     15\n",
      "3      9\n",
      "4      1\n",
      "5      1\n",
      "7      2\n",
      "8      2\n",
      "9      2\n",
      "11     2\n",
      "15     1\n",
      "16     1\n",
      "20     1\n",
      "Name: count, dtype: int64\n"
     ]
    }
   ],
   "source": [
    "rm_per_product = (\n",
    "    receivals.groupby(\"product_id\")[\"rm_id\"]\n",
    "    .nunique()\n",
    "    .reset_index(name=\"unique_rm_count\")\n",
    ")\n",
    "\n",
    "multi_rm_products = rm_per_product[rm_per_product[\"unique_rm_count\"] > 1]\n",
    "\n",
    "print(f\"\\nNumber of products with multiple raw materials: {len(multi_rm_products)}\")\n",
    "#print(multi_rm_products.head()) \n",
    "\n",
    "distribution = rm_per_product[\"unique_rm_count\"].value_counts().sort_index()\n",
    "print(\"\\nDistribution of number of materials per product:\")\n",
    "print(distribution)"
   ]
  },
  {
   "cell_type": "markdown",
   "id": "36d3dbcd",
   "metadata": {},
   "source": [
    "### Number of products per material "
   ]
  },
  {
   "cell_type": "code",
   "execution_count": 31,
   "id": "cb54de63",
   "metadata": {},
   "outputs": [
    {
     "name": "stdout",
     "output_type": "stream",
     "text": [
      "Number of materials used in multiple products: 1\n",
      "      rm_id  unique_product_count\n",
      "161  3362.0                     2\n",
      "\n",
      "Distribution of products per material:\n",
      "unique_product_count\n",
      "1    202\n",
      "2      1\n",
      "Name: count, dtype: int64\n"
     ]
    }
   ],
   "source": [
    "products_per_material = (\n",
    "    receivals.groupby(\"rm_id\")[\"product_id\"]\n",
    "    .nunique()\n",
    "    .reset_index(name=\"unique_product_count\")\n",
    ")\n",
    "\n",
    "multi_product_materials = products_per_material[products_per_material[\"unique_product_count\"] > 1]\n",
    "\n",
    "print(f\"Number of materials used in multiple products: {len(multi_product_materials)}\")\n",
    "print(multi_product_materials.head())  \n",
    "\n",
    "distribution = products_per_material[\"unique_product_count\"].value_counts().sort_index()\n",
    "print(\"\\nDistribution of products per material:\")\n",
    "print(distribution)"
   ]
  },
  {
   "cell_type": "code",
   "execution_count": null,
   "id": "ae6b1d13",
   "metadata": {},
   "outputs": [],
   "source": []
  }
 ],
 "metadata": {
  "kernelspec": {
   "display_name": "ml_env",
   "language": "python",
   "name": "python3"
  },
  "language_info": {
   "codemirror_mode": {
    "name": "ipython",
    "version": 3
   },
   "file_extension": ".py",
   "mimetype": "text/x-python",
   "name": "python",
   "nbconvert_exporter": "python",
   "pygments_lexer": "ipython3",
   "version": "3.11.13"
  }
 },
 "nbformat": 4,
 "nbformat_minor": 5
}
